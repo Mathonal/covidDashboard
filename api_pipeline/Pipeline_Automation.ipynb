{
 "cells": [
  {
   "cell_type": "code",
   "execution_count": 1,
   "metadata": {},
   "outputs": [],
   "source": [
    "import pandas as pd\n",
    "from api_utils import loadCSVData,updateIncidenceTable\n",
    "from api_utils import getRawDataToCSV\n",
    "from api_utils import buildbrutIncidence,incidenceMovingAverage,incidenceExpMovingAverage\n",
    "\n",
    "paysname = 'France'"
   ]
  },
  {
   "cell_type": "code",
   "execution_count": 4,
   "metadata": {},
   "outputs": [],
   "source": [
    "getRawDataToCSV(paysname)"
   ]
  },
  {
   "cell_type": "code",
   "execution_count": 5,
   "metadata": {},
   "outputs": [
    {
     "name": "stdout",
     "output_type": "stream",
     "text": [
      "new data detected : 48 more lines\n"
     ]
    },
    {
     "name": "stderr",
     "output_type": "stream",
     "text": [
      "/home/delka/work/Jupyter_volume/dash/mydashexemples/dash-covid/api_pipeline/api_utils.py:61: SettingWithCopyWarning: \n",
      "A value is trying to be set on a copy of a slice from a DataFrame.\n",
      "Try using .loc[row_indexer,col_indexer] = value instead\n",
      "\n",
      "See the caveats in the documentation: https://pandas.pydata.org/pandas-docs/stable/user_guide/indexing.html#returning-a-view-versus-a-copy\n",
      "  newdf['shift'] = newdf[countColumnName].shift(periods=1,fill_value=0)\n",
      "/home/delka/work/Jupyter_volume/dash/mydashexemples/dash-covid/api_pipeline/api_utils.py:62: SettingWithCopyWarning: \n",
      "A value is trying to be set on a copy of a slice from a DataFrame.\n",
      "Try using .loc[row_indexer,col_indexer] = value instead\n",
      "\n",
      "See the caveats in the documentation: https://pandas.pydata.org/pandas-docs/stable/user_guide/indexing.html#returning-a-view-versus-a-copy\n",
      "  newdf['delta'] = newdf[countColumnName]-newdf['shift']\n",
      "/home/delka/work/Jupyter_volume/dash/mydashexemples/dash-covid/api_pipeline/api_utils.py:64: SettingWithCopyWarning: \n",
      "A value is trying to be set on a copy of a slice from a DataFrame.\n",
      "Try using .loc[row_indexer,col_indexer] = value instead\n",
      "\n",
      "See the caveats in the documentation: https://pandas.pydata.org/pandas-docs/stable/user_guide/indexing.html#returning-a-view-versus-a-copy\n",
      "  newdf['delta'] = newdf['delta'].apply(lambda x: 0 if x < 0 else x)\n"
     ]
    }
   ],
   "source": [
    "updateIncidenceTable(paysname)"
   ]
  },
  {
   "cell_type": "code",
   "execution_count": 6,
   "metadata": {},
   "outputs": [
    {
     "name": "stdout",
     "output_type": "stream",
     "text": [
      "Thread %s: starting 1\n",
      "Thread %s: finishing 1\n"
     ]
    }
   ],
   "source": [
    "import threading\n",
    "import time\n",
    "\n",
    "def thread_function(name):\n",
    "\n",
    "    print(\"Thread %s: starting\", name)\n",
    "    time.sleep(2)\n",
    "    print(\"Thread %s: finishing\", name)\n",
    "    \n",
    "x = threading.Thread(target=thread_function, args=(1,))\n",
    "x.start()"
   ]
  },
  {
   "cell_type": "code",
   "execution_count": null,
   "metadata": {},
   "outputs": [],
   "source": []
  }
 ],
 "metadata": {
  "kernelspec": {
   "display_name": "Python 3",
   "language": "python",
   "name": "python3"
  },
  "language_info": {
   "codemirror_mode": {
    "name": "ipython",
    "version": 3
   },
   "file_extension": ".py",
   "mimetype": "text/x-python",
   "name": "python",
   "nbconvert_exporter": "python",
   "pygments_lexer": "ipython3",
   "version": "3.8.5"
  }
 },
 "nbformat": 4,
 "nbformat_minor": 4
}
