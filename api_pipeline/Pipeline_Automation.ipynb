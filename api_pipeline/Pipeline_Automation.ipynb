{
 "cells": [
  {
   "cell_type": "code",
   "execution_count": 1,
   "metadata": {},
   "outputs": [],
   "source": [
    "import pandas as pd\n",
    "import requests\n",
    "\n",
    "from api_utils import loadCSVData,updateIncidenceTable,getPandaFrameForCountry\n",
    "from api_utils import getRawDataToCSV\n",
    "from api_utils import buildbrutIncidence,incidenceMovingAverage,incidenceExpMovingAverage\n",
    "pd.options.mode.chained_assignment = None\n",
    "\n",
    "import logging\n",
    "logging.basicConfig(level=logging.DEBUG,\n",
    " format=' %(threadName)s -- %(levelname)s -- %(message)s')"
   ]
  },
  {
   "cell_type": "code",
   "execution_count": 2,
   "metadata": {},
   "outputs": [],
   "source": [
    "# MODELING TESTS \n",
    "from modeling import continent_map, country_map, get_countrymap\n",
    "\n",
    "#continent_map\n",
    "#get_countrymap()\n",
    "#country_map"
   ]
  },
  {
   "cell_type": "code",
   "execution_count": 3,
   "metadata": {},
   "outputs": [
    {
     "name": "stderr",
     "output_type": "stream",
     "text": [
      " MainThread -- DEBUG -- Starting new HTTPS connection (1): api.covid19api.com:443\n",
      " MainThread -- DEBUG -- https://api.covid19api.com:443 \"GET /total/country/Aruba HTTP/1.1\" 200 31\n",
      " MainThread -- DEBUG -- request OK for 200\n"
     ]
    },
    {
     "name": "stdout",
     "output_type": "stream",
     "text": [
      "Empty DataFrame\n",
      "Columns: []\n",
      "Index: []\n"
     ]
    }
   ],
   "source": [
    "rawdf=pd.DataFrame(getPandaFrameForCountry('Aruba'))\n",
    "print(rawdf.head(1))"
   ]
  },
  {
   "cell_type": "code",
   "execution_count": 5,
   "metadata": {},
   "outputs": [
    {
     "name": "stdout",
     "output_type": "stream",
     "text": [
      "  Country CountryCode Province City CityCode Lat Lon  Confirmed  Deaths  \\\n",
      "0  France                                      0   0          0       0   \n",
      "\n",
      "   Recovered  Active                  Date  \n",
      "0          0       0  2020-01-22T00:00:00Z  \n",
      "   Country CountryCode Province City CityCode Lat Lon  Confirmed  Deaths  \\\n",
      "0  Germany                                      0   0          0       0   \n",
      "\n",
      "   Recovered  Active                  Date  \n",
      "0          0       0  2020-01-22T00:00:00Z  \n",
      "   Country CountryCode Province City CityCode Lat Lon  Confirmed  Deaths  \\\n",
      "0  Belgium                                      0   0          0       0   \n",
      "\n",
      "   Recovered  Active                  Date  \n",
      "0          0       0  2020-01-22T00:00:00Z  \n",
      "  Country CountryCode Province City CityCode Lat Lon  Confirmed  Deaths  \\\n",
      "0   Spain                                      0   0          0       0   \n",
      "\n",
      "   Recovered  Active                  Date  \n",
      "0          0       0  2020-01-22T00:00:00Z  \n",
      "  Country CountryCode Province City CityCode Lat Lon  Confirmed  Deaths  \\\n",
      "0  Greece                                      0   0          0       0   \n",
      "\n",
      "   Recovered  Active                  Date  \n",
      "0          0       0  2020-01-22T00:00:00Z  \n",
      "   Country CountryCode Province City CityCode Lat Lon  Confirmed  Deaths  \\\n",
      "0  Ireland                                      0   0          0       0   \n",
      "\n",
      "   Recovered  Active                  Date  \n",
      "0          0       0  2020-01-22T00:00:00Z  \n",
      "  Country CountryCode Province City CityCode Lat Lon  Confirmed  Deaths  \\\n",
      "0   Italy                                      0   0          0       0   \n",
      "\n",
      "   Recovered  Active                  Date  \n",
      "0          0       0  2020-01-22T00:00:00Z  \n",
      "       Country CountryCode Province City CityCode Lat Lon  Confirmed  Deaths  \\\n",
      "0  Netherlands                                      0   0          0       0   \n",
      "\n",
      "   Recovered  Active                  Date  \n",
      "0          0       0  2020-01-22T00:00:00Z  \n",
      "  Country CountryCode Province City CityCode Lat Lon  Confirmed  Deaths  \\\n",
      "0  Poland                                      0   0          0       0   \n",
      "\n",
      "   Recovered  Active                  Date  \n",
      "0          0       0  2020-01-22T00:00:00Z  \n",
      "   Country CountryCode Province City CityCode Lat Lon  Confirmed  Deaths  \\\n",
      "0  Ukraine                                      0   0          0       0   \n",
      "\n",
      "   Recovered  Active                  Date  \n",
      "0          0       0  2020-01-22T00:00:00Z  \n"
     ]
    },
    {
     "name": "stderr",
     "output_type": "stream",
     "text": [
      "WARNING:root:[429] request code for United Kingdom : {'message': 'Too Many Requests on /total/country/United%20Kingdom. Please upgrade to a subscription at https://covid19api.com/#subscribe', 'success': False}\n"
     ]
    },
    {
     "name": "stdout",
     "output_type": "stream",
     "text": [
      "          Country CountryCode Province City CityCode Lat Lon  Confirmed  \\\n",
      "0  United Kingdom                                      0   0          0   \n",
      "\n",
      "   Deaths  Recovered  Active                  Date  \n",
      "0       0          0       0  2020-01-22T00:00:00Z  \n",
      "  Country CountryCode Province City CityCode Lat Lon  Confirmed  Deaths  \\\n",
      "0  Sweden                                      0   0          0       0   \n",
      "\n",
      "   Recovered  Active                  Date  \n",
      "0          0       0  2020-01-22T00:00:00Z  \n",
      "       Country CountryCode Province City CityCode Lat Lon  Confirmed  Deaths  \\\n",
      "0  Switzerland                                      0   0          0       0   \n",
      "\n",
      "   Recovered  Active                  Date  \n",
      "0          0       0  2020-01-22T00:00:00Z  \n",
      "  Country CountryCode Province City CityCode Lat Lon  Confirmed  Deaths  \\\n",
      "0  Turkey                                      0   0          0       0   \n",
      "\n",
      "   Recovered  Active                  Date  \n",
      "0          0       0  2020-01-22T00:00:00Z  \n",
      "   Country CountryCode Province City CityCode Lat Lon  Confirmed  Deaths  \\\n",
      "0  Romania                                      0   0          0       0   \n",
      "\n",
      "   Recovered  Active                  Date  \n",
      "0          0       0  2020-01-22T00:00:00Z  \n",
      "    Country CountryCode Province City CityCode Lat Lon  Confirmed  Deaths  \\\n",
      "0  Portugal                                      0   0          0       0   \n",
      "\n",
      "   Recovered  Active                  Date  \n",
      "0          0       0  2020-01-22T00:00:00Z  \n",
      "          Country CountryCode Province City CityCode Lat Lon  Confirmed  \\\n",
      "0  Czech Republic                                      0   0          0   \n",
      "\n",
      "   Deaths  Recovered  Active                  Date  \n",
      "0       0          0       0  2020-01-22T00:00:00Z  \n",
      "                    Country CountryCode Province City CityCode Lat Lon  \\\n",
      "0  United States of America                                      0   0   \n",
      "\n",
      "   Confirmed  Deaths  Recovered  Active                  Date  \n",
      "0          1       0          0       1  2020-01-22T00:00:00Z  \n",
      "  Country CountryCode Province City CityCode Lat Lon  Confirmed  Deaths  \\\n",
      "0  Mexico                                      0   0          0       0   \n",
      "\n",
      "   Recovered  Active                  Date  \n",
      "0          0       0  2020-01-22T00:00:00Z  \n",
      "  Country CountryCode Province City CityCode Lat Lon  Confirmed  Deaths  \\\n",
      "0  Canada                                      0   0          0       0   \n",
      "\n",
      "   Recovered  Active                  Date  \n",
      "0          0       0  2020-01-22T00:00:00Z  \n"
     ]
    },
    {
     "name": "stderr",
     "output_type": "stream",
     "text": [
      "WARNING:root:[429] request code for Brazil : {'message': 'Too Many Requests on /total/country/Brazil. Please upgrade to a subscription at https://covid19api.com/#subscribe', 'success': False}\n"
     ]
    },
    {
     "name": "stdout",
     "output_type": "stream",
     "text": [
      "  Country CountryCode Province City CityCode Lat Lon  Confirmed  Deaths  \\\n",
      "0  Brazil                                      0   0          0       0   \n",
      "\n",
      "   Recovered  Active                  Date  \n",
      "0          0       0  2020-01-22T00:00:00Z  \n",
      "    Country CountryCode Province City CityCode Lat Lon  Confirmed  Deaths  \\\n",
      "0  Colombia                                      0   0          0       0   \n",
      "\n",
      "   Recovered  Active                  Date  \n",
      "0          0       0  2020-01-22T00:00:00Z  \n",
      "     Country CountryCode Province City CityCode Lat Lon  Confirmed  Deaths  \\\n",
      "0  Argentina                                      0   0          0       0   \n",
      "\n",
      "   Recovered  Active                  Date  \n",
      "0          0       0  2020-01-22T00:00:00Z  \n",
      "  Country CountryCode Province City CityCode Lat Lon  Confirmed  Deaths  \\\n",
      "0    Peru                                      0   0          0       0   \n",
      "\n",
      "   Recovered  Active                  Date  \n",
      "0          0       0  2020-01-22T00:00:00Z  \n",
      "  Country CountryCode Province City CityCode Lat Lon  Confirmed  Deaths  \\\n",
      "0   Chile                                      0   0          0       0   \n",
      "\n",
      "   Recovered  Active                  Date  \n",
      "0          0       0  2020-01-22T00:00:00Z  \n",
      "   Country CountryCode Province City CityCode Lat Lon  Confirmed  Deaths  \\\n",
      "0  Ecuador                                      0   0          0       0   \n",
      "\n",
      "   Recovered  Active                  Date  \n",
      "0          0       0  2020-01-22T00:00:00Z  \n",
      "     Country CountryCode Province City CityCode Lat Lon  Confirmed  Deaths  \\\n",
      "0  Guatemala                                      0   0          0       0   \n",
      "\n",
      "   Recovered  Active                  Date  \n",
      "0          0       0  2020-01-22T00:00:00Z  \n",
      "              Country CountryCode Province City CityCode Lat Lon  Confirmed  \\\n",
      "0  Dominican Republic                                      0   0          0   \n",
      "\n",
      "   Deaths  Recovered  Active                  Date  \n",
      "0       0          0       0  2020-01-22T00:00:00Z  \n",
      "  Country CountryCode Province City CityCode Lat Lon  Confirmed  Deaths  \\\n",
      "0    Cuba                                      0   0          0       0   \n",
      "\n",
      "   Recovered  Active                  Date  \n",
      "0          0       0  2020-01-22T00:00:00Z  \n",
      "  Country CountryCode Province City CityCode Lat Lon  Confirmed  Deaths  \\\n",
      "0   Haiti                                      0   0          0       0   \n",
      "\n",
      "   Recovered  Active                  Date  \n",
      "0          0       0  2020-01-22T00:00:00Z  \n"
     ]
    },
    {
     "name": "stderr",
     "output_type": "stream",
     "text": [
      "WARNING:root:[429] request code for Bolivia : {'message': 'Too Many Requests on /total/country/Bolivia. Please upgrade to a subscription at https://covid19api.com/#subscribe', 'success': False}\n"
     ]
    },
    {
     "name": "stdout",
     "output_type": "stream",
     "text": [
      "   Country CountryCode Province City CityCode Lat Lon  Confirmed  Deaths  \\\n",
      "0  Bolivia                                      0   0          0       0   \n",
      "\n",
      "   Recovered  Active                  Date  \n",
      "0          0       0  2020-01-22T00:00:00Z  \n",
      "       Country CountryCode Province City CityCode Lat Lon  Confirmed  Deaths  \\\n",
      "0  Afghanistan                                      0   0          0       0   \n",
      "\n",
      "   Recovered  Active                  Date  \n",
      "0          0       0  2020-01-22T00:00:00Z  \n",
      "  Country CountryCode Province City CityCode Lat Lon  Confirmed  Deaths  \\\n",
      "0   India                                      0   0          0       0   \n",
      "\n",
      "   Recovered  Active                  Date  \n",
      "0          0       0  2020-01-22T00:00:00Z  \n",
      "     Country CountryCode Province City CityCode Lat Lon  Confirmed  Deaths  \\\n",
      "0  Indonesia                                      0   0          0       0   \n",
      "\n",
      "   Recovered  Active                  Date  \n",
      "0          0       0  2020-01-22T00:00:00Z  \n",
      "      Country CountryCode Province City CityCode Lat Lon  Confirmed  Deaths  \\\n",
      "0  Bangladesh                                      0   0          0       0   \n",
      "\n",
      "   Recovered  Active                  Date  \n",
      "0          0       0  2020-01-22T00:00:00Z  \n",
      "  Country CountryCode Province City CityCode Lat Lon  Confirmed  Deaths  \\\n",
      "0   China                                      0   0        548      17   \n",
      "\n",
      "   Recovered  Active                  Date  \n",
      "0         28     503  2020-01-22T00:00:00Z  \n",
      "  Country CountryCode Province City CityCode Lat Lon  Confirmed  Deaths  \\\n",
      "0   Japan                                      0   0          2       0   \n",
      "\n",
      "   Recovered  Active                  Date  \n",
      "0          0       2  2020-01-22T00:00:00Z  \n",
      "   Country CountryCode Province City CityCode Lat Lon  Confirmed  Deaths  \\\n",
      "0  Myanmar                                      0   0          0       0   \n",
      "\n",
      "   Recovered  Active                  Date  \n",
      "0          0       0  2020-01-22T00:00:00Z  \n",
      "    Country CountryCode Province City CityCode Lat Lon  Confirmed  Deaths  \\\n",
      "0  Pakistan                                      0   0          0       0   \n",
      "\n",
      "   Recovered  Active                  Date  \n",
      "0          0       0  2020-01-22T00:00:00Z  \n",
      "       Country CountryCode Province City CityCode Lat Lon  Confirmed  Deaths  \\\n",
      "0  Philippines                                      0   0          0       0   \n",
      "\n",
      "   Recovered  Active                  Date  \n",
      "0          0       0  2020-01-22T00:00:00Z  \n"
     ]
    },
    {
     "name": "stderr",
     "output_type": "stream",
     "text": [
      "WARNING:root:[429] request code for Russian Federation : {'message': 'Too Many Requests on /total/country/Russian%20Federation. Please upgrade to a subscription at https://covid19api.com/#subscribe', 'success': False}\n"
     ]
    },
    {
     "name": "stdout",
     "output_type": "stream",
     "text": [
      "              Country CountryCode Province City CityCode Lat Lon  Confirmed  \\\n",
      "0  Russian Federation                                      0   0          0   \n",
      "\n",
      "   Deaths  Recovered  Active                  Date  \n",
      "0       0          0       0  2020-01-22T00:00:00Z  \n",
      "    Country CountryCode Province City CityCode Lat Lon  Confirmed  Deaths  \\\n",
      "0  Thailand                                      0   0          4       0   \n",
      "\n",
      "   Recovered  Active                  Date  \n",
      "0          2       2  2020-01-22T00:00:00Z  \n",
      "      Country CountryCode Province City CityCode Lat Lon  Confirmed  Deaths  \\\n",
      "0  Uzbekistan                                      0   0          0       0   \n",
      "\n",
      "   Recovered  Active                  Date  \n",
      "0          0       0  2020-01-22T00:00:00Z  \n",
      "    Country CountryCode Province City CityCode Lat Lon  Confirmed  Deaths  \\\n",
      "0  Malaysia                                      0   0          0       0   \n",
      "\n",
      "   Recovered  Active                  Date  \n",
      "0          0       0  2020-01-22T00:00:00Z  \n",
      "  Country CountryCode Province City CityCode Lat Lon  Confirmed  Deaths  \\\n",
      "0   Nepal                                      0   0          0       0   \n",
      "\n",
      "   Recovered  Active                  Date  \n",
      "0          0       0  2020-01-22T00:00:00Z  \n",
      "     Country CountryCode Province City CityCode Lat Lon  Confirmed  Deaths  \\\n",
      "0  Australia                                      0   0          0       0   \n",
      "\n",
      "   Recovered  Active                  Date  \n",
      "0          0       0  2020-01-22T00:00:00Z  \n",
      "     Country CountryCode Province City CityCode Lat Lon  Confirmed  Deaths  \\\n",
      "0  Sri Lanka                                      0   0          0       0   \n",
      "\n",
      "   Recovered  Active                  Date  \n",
      "0          0       0  2020-01-22T00:00:00Z  \n"
     ]
    },
    {
     "ename": "KeyboardInterrupt",
     "evalue": "",
     "output_type": "error",
     "traceback": [
      "\u001b[0;31m---------------------------------------------------------------------------\u001b[0m",
      "\u001b[0;31mKeyboardInterrupt\u001b[0m                         Traceback (most recent call last)",
      "\u001b[0;32m<ipython-input-5-956295a44ce4>\u001b[0m in \u001b[0;36m<module>\u001b[0;34m\u001b[0m\n\u001b[1;32m      1\u001b[0m \u001b[0;31m# TEST ON getPandaFrameForCountry (FOR RESPONSES TIME AND CODES)\u001b[0m\u001b[0;34m\u001b[0m\u001b[0;34m\u001b[0m\u001b[0;34m\u001b[0m\u001b[0m\n\u001b[1;32m      2\u001b[0m \u001b[0;32mfor\u001b[0m \u001b[0mi\u001b[0m \u001b[0;32min\u001b[0m \u001b[0mcountry_map\u001b[0m\u001b[0;34m.\u001b[0m\u001b[0mkeys\u001b[0m\u001b[0;34m(\u001b[0m\u001b[0;34m)\u001b[0m\u001b[0;34m:\u001b[0m\u001b[0;34m\u001b[0m\u001b[0;34m\u001b[0m\u001b[0m\n\u001b[0;32m----> 3\u001b[0;31m     \u001b[0mrawdf\u001b[0m\u001b[0;34m=\u001b[0m\u001b[0mpd\u001b[0m\u001b[0;34m.\u001b[0m\u001b[0mDataFrame\u001b[0m\u001b[0;34m(\u001b[0m\u001b[0mgetPandaFrameForCountry\u001b[0m\u001b[0;34m(\u001b[0m\u001b[0mi\u001b[0m\u001b[0;34m)\u001b[0m\u001b[0;34m)\u001b[0m\u001b[0;34m\u001b[0m\u001b[0;34m\u001b[0m\u001b[0m\n\u001b[0m\u001b[1;32m      4\u001b[0m     \u001b[0mprint\u001b[0m\u001b[0;34m(\u001b[0m\u001b[0mrawdf\u001b[0m\u001b[0;34m.\u001b[0m\u001b[0mhead\u001b[0m\u001b[0;34m(\u001b[0m\u001b[0;36m1\u001b[0m\u001b[0;34m)\u001b[0m\u001b[0;34m)\u001b[0m\u001b[0;34m\u001b[0m\u001b[0;34m\u001b[0m\u001b[0m\n",
      "\u001b[0;32m/home/delka/work/GitRepos/covidDashboard/api_pipeline/api_utils.py\u001b[0m in \u001b[0;36mgetPandaFrameForCountry\u001b[0;34m(countryname)\u001b[0m\n\u001b[1;32m     84\u001b[0m     \u001b[0mtrycount\u001b[0m \u001b[0;34m=\u001b[0m \u001b[0;36m0\u001b[0m\u001b[0;34m\u001b[0m\u001b[0;34m\u001b[0m\u001b[0m\n\u001b[1;32m     85\u001b[0m     \u001b[0;32mwhile\u001b[0m \u001b[0mRcode\u001b[0m \u001b[0;34m!=\u001b[0m \u001b[0;36m200\u001b[0m \u001b[0;32mand\u001b[0m \u001b[0mtrycount\u001b[0m \u001b[0;34m<\u001b[0m \u001b[0;36m5\u001b[0m\u001b[0;34m:\u001b[0m\u001b[0;34m\u001b[0m\u001b[0;34m\u001b[0m\u001b[0m\n\u001b[0;32m---> 86\u001b[0;31m         \u001b[0mresponse\u001b[0m \u001b[0;34m=\u001b[0m \u001b[0mrequests\u001b[0m\u001b[0;34m.\u001b[0m\u001b[0mrequest\u001b[0m\u001b[0;34m(\u001b[0m\u001b[0;34m\"GET\"\u001b[0m\u001b[0;34m,\u001b[0m \u001b[0murl\u001b[0m\u001b[0;34m,\u001b[0m \u001b[0mheaders\u001b[0m\u001b[0;34m=\u001b[0m\u001b[0mheaders\u001b[0m\u001b[0;34m,\u001b[0m \u001b[0mdata\u001b[0m \u001b[0;34m=\u001b[0m \u001b[0mpayload\u001b[0m\u001b[0;34m)\u001b[0m\u001b[0;34m\u001b[0m\u001b[0;34m\u001b[0m\u001b[0m\n\u001b[0m\u001b[1;32m     87\u001b[0m         \u001b[0mRcode\u001b[0m \u001b[0;34m=\u001b[0m \u001b[0mresponse\u001b[0m\u001b[0;34m.\u001b[0m\u001b[0mstatus_code\u001b[0m\u001b[0;34m\u001b[0m\u001b[0;34m\u001b[0m\u001b[0m\n\u001b[1;32m     88\u001b[0m         \u001b[0;32mif\u001b[0m \u001b[0mRcode\u001b[0m \u001b[0;34m!=\u001b[0m \u001b[0;36m200\u001b[0m \u001b[0;34m:\u001b[0m\u001b[0;34m\u001b[0m\u001b[0;34m\u001b[0m\u001b[0m\n",
      "\u001b[0;32m/opt/conda/lib/python3.8/site-packages/requests/api.py\u001b[0m in \u001b[0;36mrequest\u001b[0;34m(method, url, **kwargs)\u001b[0m\n\u001b[1;32m     59\u001b[0m     \u001b[0;31m# cases, and look like a memory leak in others.\u001b[0m\u001b[0;34m\u001b[0m\u001b[0;34m\u001b[0m\u001b[0;34m\u001b[0m\u001b[0m\n\u001b[1;32m     60\u001b[0m     \u001b[0;32mwith\u001b[0m \u001b[0msessions\u001b[0m\u001b[0;34m.\u001b[0m\u001b[0mSession\u001b[0m\u001b[0;34m(\u001b[0m\u001b[0;34m)\u001b[0m \u001b[0;32mas\u001b[0m \u001b[0msession\u001b[0m\u001b[0;34m:\u001b[0m\u001b[0;34m\u001b[0m\u001b[0;34m\u001b[0m\u001b[0m\n\u001b[0;32m---> 61\u001b[0;31m         \u001b[0;32mreturn\u001b[0m \u001b[0msession\u001b[0m\u001b[0;34m.\u001b[0m\u001b[0mrequest\u001b[0m\u001b[0;34m(\u001b[0m\u001b[0mmethod\u001b[0m\u001b[0;34m=\u001b[0m\u001b[0mmethod\u001b[0m\u001b[0;34m,\u001b[0m \u001b[0murl\u001b[0m\u001b[0;34m=\u001b[0m\u001b[0murl\u001b[0m\u001b[0;34m,\u001b[0m \u001b[0;34m**\u001b[0m\u001b[0mkwargs\u001b[0m\u001b[0;34m)\u001b[0m\u001b[0;34m\u001b[0m\u001b[0;34m\u001b[0m\u001b[0m\n\u001b[0m\u001b[1;32m     62\u001b[0m \u001b[0;34m\u001b[0m\u001b[0m\n\u001b[1;32m     63\u001b[0m \u001b[0;34m\u001b[0m\u001b[0m\n",
      "\u001b[0;32m/opt/conda/lib/python3.8/site-packages/requests/sessions.py\u001b[0m in \u001b[0;36mrequest\u001b[0;34m(self, method, url, params, data, headers, cookies, files, auth, timeout, allow_redirects, proxies, hooks, stream, verify, cert, json)\u001b[0m\n\u001b[1;32m    528\u001b[0m         }\n\u001b[1;32m    529\u001b[0m         \u001b[0msend_kwargs\u001b[0m\u001b[0;34m.\u001b[0m\u001b[0mupdate\u001b[0m\u001b[0;34m(\u001b[0m\u001b[0msettings\u001b[0m\u001b[0;34m)\u001b[0m\u001b[0;34m\u001b[0m\u001b[0;34m\u001b[0m\u001b[0m\n\u001b[0;32m--> 530\u001b[0;31m         \u001b[0mresp\u001b[0m \u001b[0;34m=\u001b[0m \u001b[0mself\u001b[0m\u001b[0;34m.\u001b[0m\u001b[0msend\u001b[0m\u001b[0;34m(\u001b[0m\u001b[0mprep\u001b[0m\u001b[0;34m,\u001b[0m \u001b[0;34m**\u001b[0m\u001b[0msend_kwargs\u001b[0m\u001b[0;34m)\u001b[0m\u001b[0;34m\u001b[0m\u001b[0;34m\u001b[0m\u001b[0m\n\u001b[0m\u001b[1;32m    531\u001b[0m \u001b[0;34m\u001b[0m\u001b[0m\n\u001b[1;32m    532\u001b[0m         \u001b[0;32mreturn\u001b[0m \u001b[0mresp\u001b[0m\u001b[0;34m\u001b[0m\u001b[0;34m\u001b[0m\u001b[0m\n",
      "\u001b[0;32m/opt/conda/lib/python3.8/site-packages/requests/sessions.py\u001b[0m in \u001b[0;36msend\u001b[0;34m(self, request, **kwargs)\u001b[0m\n\u001b[1;32m    641\u001b[0m \u001b[0;34m\u001b[0m\u001b[0m\n\u001b[1;32m    642\u001b[0m         \u001b[0;31m# Send the request\u001b[0m\u001b[0;34m\u001b[0m\u001b[0;34m\u001b[0m\u001b[0;34m\u001b[0m\u001b[0m\n\u001b[0;32m--> 643\u001b[0;31m         \u001b[0mr\u001b[0m \u001b[0;34m=\u001b[0m \u001b[0madapter\u001b[0m\u001b[0;34m.\u001b[0m\u001b[0msend\u001b[0m\u001b[0;34m(\u001b[0m\u001b[0mrequest\u001b[0m\u001b[0;34m,\u001b[0m \u001b[0;34m**\u001b[0m\u001b[0mkwargs\u001b[0m\u001b[0;34m)\u001b[0m\u001b[0;34m\u001b[0m\u001b[0;34m\u001b[0m\u001b[0m\n\u001b[0m\u001b[1;32m    644\u001b[0m \u001b[0;34m\u001b[0m\u001b[0m\n\u001b[1;32m    645\u001b[0m         \u001b[0;31m# Total elapsed time of the request (approximately)\u001b[0m\u001b[0;34m\u001b[0m\u001b[0;34m\u001b[0m\u001b[0;34m\u001b[0m\u001b[0m\n",
      "\u001b[0;32m/opt/conda/lib/python3.8/site-packages/requests/adapters.py\u001b[0m in \u001b[0;36msend\u001b[0;34m(self, request, stream, timeout, verify, cert, proxies)\u001b[0m\n\u001b[1;32m    437\u001b[0m         \u001b[0;32mtry\u001b[0m\u001b[0;34m:\u001b[0m\u001b[0;34m\u001b[0m\u001b[0;34m\u001b[0m\u001b[0m\n\u001b[1;32m    438\u001b[0m             \u001b[0;32mif\u001b[0m \u001b[0;32mnot\u001b[0m \u001b[0mchunked\u001b[0m\u001b[0;34m:\u001b[0m\u001b[0;34m\u001b[0m\u001b[0;34m\u001b[0m\u001b[0m\n\u001b[0;32m--> 439\u001b[0;31m                 resp = conn.urlopen(\n\u001b[0m\u001b[1;32m    440\u001b[0m                     \u001b[0mmethod\u001b[0m\u001b[0;34m=\u001b[0m\u001b[0mrequest\u001b[0m\u001b[0;34m.\u001b[0m\u001b[0mmethod\u001b[0m\u001b[0;34m,\u001b[0m\u001b[0;34m\u001b[0m\u001b[0;34m\u001b[0m\u001b[0m\n\u001b[1;32m    441\u001b[0m                     \u001b[0murl\u001b[0m\u001b[0;34m=\u001b[0m\u001b[0murl\u001b[0m\u001b[0;34m,\u001b[0m\u001b[0;34m\u001b[0m\u001b[0;34m\u001b[0m\u001b[0m\n",
      "\u001b[0;32m/opt/conda/lib/python3.8/site-packages/urllib3/connectionpool.py\u001b[0m in \u001b[0;36murlopen\u001b[0;34m(self, method, url, body, headers, retries, redirect, assert_same_host, timeout, pool_timeout, release_conn, chunked, body_pos, **response_kw)\u001b[0m\n\u001b[1;32m    668\u001b[0m \u001b[0;34m\u001b[0m\u001b[0m\n\u001b[1;32m    669\u001b[0m             \u001b[0;31m# Make the request on the httplib connection object.\u001b[0m\u001b[0;34m\u001b[0m\u001b[0;34m\u001b[0m\u001b[0;34m\u001b[0m\u001b[0m\n\u001b[0;32m--> 670\u001b[0;31m             httplib_response = self._make_request(\n\u001b[0m\u001b[1;32m    671\u001b[0m                 \u001b[0mconn\u001b[0m\u001b[0;34m,\u001b[0m\u001b[0;34m\u001b[0m\u001b[0;34m\u001b[0m\u001b[0m\n\u001b[1;32m    672\u001b[0m                 \u001b[0mmethod\u001b[0m\u001b[0;34m,\u001b[0m\u001b[0;34m\u001b[0m\u001b[0;34m\u001b[0m\u001b[0m\n",
      "\u001b[0;32m/opt/conda/lib/python3.8/site-packages/urllib3/connectionpool.py\u001b[0m in \u001b[0;36m_make_request\u001b[0;34m(self, conn, method, url, timeout, chunked, **httplib_request_kw)\u001b[0m\n\u001b[1;32m    379\u001b[0m         \u001b[0;31m# Trigger any extra validation we need to do.\u001b[0m\u001b[0;34m\u001b[0m\u001b[0;34m\u001b[0m\u001b[0;34m\u001b[0m\u001b[0m\n\u001b[1;32m    380\u001b[0m         \u001b[0;32mtry\u001b[0m\u001b[0;34m:\u001b[0m\u001b[0;34m\u001b[0m\u001b[0;34m\u001b[0m\u001b[0m\n\u001b[0;32m--> 381\u001b[0;31m             \u001b[0mself\u001b[0m\u001b[0;34m.\u001b[0m\u001b[0m_validate_conn\u001b[0m\u001b[0;34m(\u001b[0m\u001b[0mconn\u001b[0m\u001b[0;34m)\u001b[0m\u001b[0;34m\u001b[0m\u001b[0;34m\u001b[0m\u001b[0m\n\u001b[0m\u001b[1;32m    382\u001b[0m         \u001b[0;32mexcept\u001b[0m \u001b[0;34m(\u001b[0m\u001b[0mSocketTimeout\u001b[0m\u001b[0;34m,\u001b[0m \u001b[0mBaseSSLError\u001b[0m\u001b[0;34m)\u001b[0m \u001b[0;32mas\u001b[0m \u001b[0me\u001b[0m\u001b[0;34m:\u001b[0m\u001b[0;34m\u001b[0m\u001b[0;34m\u001b[0m\u001b[0m\n\u001b[1;32m    383\u001b[0m             \u001b[0;31m# Py2 raises this as a BaseSSLError, Py3 raises it as socket timeout.\u001b[0m\u001b[0;34m\u001b[0m\u001b[0;34m\u001b[0m\u001b[0;34m\u001b[0m\u001b[0m\n",
      "\u001b[0;32m/opt/conda/lib/python3.8/site-packages/urllib3/connectionpool.py\u001b[0m in \u001b[0;36m_validate_conn\u001b[0;34m(self, conn)\u001b[0m\n\u001b[1;32m    976\u001b[0m         \u001b[0;31m# Force connect early to allow us to validate the connection.\u001b[0m\u001b[0;34m\u001b[0m\u001b[0;34m\u001b[0m\u001b[0;34m\u001b[0m\u001b[0m\n\u001b[1;32m    977\u001b[0m         \u001b[0;32mif\u001b[0m \u001b[0;32mnot\u001b[0m \u001b[0mgetattr\u001b[0m\u001b[0;34m(\u001b[0m\u001b[0mconn\u001b[0m\u001b[0;34m,\u001b[0m \u001b[0;34m\"sock\"\u001b[0m\u001b[0;34m,\u001b[0m \u001b[0;32mNone\u001b[0m\u001b[0;34m)\u001b[0m\u001b[0;34m:\u001b[0m  \u001b[0;31m# AppEngine might not have  `.sock`\u001b[0m\u001b[0;34m\u001b[0m\u001b[0;34m\u001b[0m\u001b[0m\n\u001b[0;32m--> 978\u001b[0;31m             \u001b[0mconn\u001b[0m\u001b[0;34m.\u001b[0m\u001b[0mconnect\u001b[0m\u001b[0;34m(\u001b[0m\u001b[0;34m)\u001b[0m\u001b[0;34m\u001b[0m\u001b[0;34m\u001b[0m\u001b[0m\n\u001b[0m\u001b[1;32m    979\u001b[0m \u001b[0;34m\u001b[0m\u001b[0m\n\u001b[1;32m    980\u001b[0m         \u001b[0;32mif\u001b[0m \u001b[0;32mnot\u001b[0m \u001b[0mconn\u001b[0m\u001b[0;34m.\u001b[0m\u001b[0mis_verified\u001b[0m\u001b[0;34m:\u001b[0m\u001b[0;34m\u001b[0m\u001b[0;34m\u001b[0m\u001b[0m\n",
      "\u001b[0;32m/opt/conda/lib/python3.8/site-packages/urllib3/connection.py\u001b[0m in \u001b[0;36mconnect\u001b[0;34m(self)\u001b[0m\n\u001b[1;32m    307\u001b[0m     \u001b[0;32mdef\u001b[0m \u001b[0mconnect\u001b[0m\u001b[0;34m(\u001b[0m\u001b[0mself\u001b[0m\u001b[0;34m)\u001b[0m\u001b[0;34m:\u001b[0m\u001b[0;34m\u001b[0m\u001b[0;34m\u001b[0m\u001b[0m\n\u001b[1;32m    308\u001b[0m         \u001b[0;31m# Add certificate verification\u001b[0m\u001b[0;34m\u001b[0m\u001b[0;34m\u001b[0m\u001b[0;34m\u001b[0m\u001b[0m\n\u001b[0;32m--> 309\u001b[0;31m         \u001b[0mconn\u001b[0m \u001b[0;34m=\u001b[0m \u001b[0mself\u001b[0m\u001b[0;34m.\u001b[0m\u001b[0m_new_conn\u001b[0m\u001b[0;34m(\u001b[0m\u001b[0;34m)\u001b[0m\u001b[0;34m\u001b[0m\u001b[0;34m\u001b[0m\u001b[0m\n\u001b[0m\u001b[1;32m    310\u001b[0m         \u001b[0mhostname\u001b[0m \u001b[0;34m=\u001b[0m \u001b[0mself\u001b[0m\u001b[0;34m.\u001b[0m\u001b[0mhost\u001b[0m\u001b[0;34m\u001b[0m\u001b[0;34m\u001b[0m\u001b[0m\n\u001b[1;32m    311\u001b[0m \u001b[0;34m\u001b[0m\u001b[0m\n",
      "\u001b[0;32m/opt/conda/lib/python3.8/site-packages/urllib3/connection.py\u001b[0m in \u001b[0;36m_new_conn\u001b[0;34m(self)\u001b[0m\n\u001b[1;32m    157\u001b[0m \u001b[0;34m\u001b[0m\u001b[0m\n\u001b[1;32m    158\u001b[0m         \u001b[0;32mtry\u001b[0m\u001b[0;34m:\u001b[0m\u001b[0;34m\u001b[0m\u001b[0;34m\u001b[0m\u001b[0m\n\u001b[0;32m--> 159\u001b[0;31m             conn = connection.create_connection(\n\u001b[0m\u001b[1;32m    160\u001b[0m                 \u001b[0;34m(\u001b[0m\u001b[0mself\u001b[0m\u001b[0;34m.\u001b[0m\u001b[0m_dns_host\u001b[0m\u001b[0;34m,\u001b[0m \u001b[0mself\u001b[0m\u001b[0;34m.\u001b[0m\u001b[0mport\u001b[0m\u001b[0;34m)\u001b[0m\u001b[0;34m,\u001b[0m \u001b[0mself\u001b[0m\u001b[0;34m.\u001b[0m\u001b[0mtimeout\u001b[0m\u001b[0;34m,\u001b[0m \u001b[0;34m**\u001b[0m\u001b[0mextra_kw\u001b[0m\u001b[0;34m\u001b[0m\u001b[0;34m\u001b[0m\u001b[0m\n\u001b[1;32m    161\u001b[0m             )\n",
      "\u001b[0;32m/opt/conda/lib/python3.8/site-packages/urllib3/util/connection.py\u001b[0m in \u001b[0;36mcreate_connection\u001b[0;34m(address, timeout, source_address, socket_options)\u001b[0m\n\u001b[1;32m     72\u001b[0m             \u001b[0;32mif\u001b[0m \u001b[0msource_address\u001b[0m\u001b[0;34m:\u001b[0m\u001b[0;34m\u001b[0m\u001b[0;34m\u001b[0m\u001b[0m\n\u001b[1;32m     73\u001b[0m                 \u001b[0msock\u001b[0m\u001b[0;34m.\u001b[0m\u001b[0mbind\u001b[0m\u001b[0;34m(\u001b[0m\u001b[0msource_address\u001b[0m\u001b[0;34m)\u001b[0m\u001b[0;34m\u001b[0m\u001b[0;34m\u001b[0m\u001b[0m\n\u001b[0;32m---> 74\u001b[0;31m             \u001b[0msock\u001b[0m\u001b[0;34m.\u001b[0m\u001b[0mconnect\u001b[0m\u001b[0;34m(\u001b[0m\u001b[0msa\u001b[0m\u001b[0;34m)\u001b[0m\u001b[0;34m\u001b[0m\u001b[0;34m\u001b[0m\u001b[0m\n\u001b[0m\u001b[1;32m     75\u001b[0m             \u001b[0;32mreturn\u001b[0m \u001b[0msock\u001b[0m\u001b[0;34m\u001b[0m\u001b[0;34m\u001b[0m\u001b[0m\n\u001b[1;32m     76\u001b[0m \u001b[0;34m\u001b[0m\u001b[0m\n",
      "\u001b[0;31mKeyboardInterrupt\u001b[0m: "
     ]
    }
   ],
   "source": [
    "# TEST ON getPandaFrameForCountry (FOR RESPONSES TIME AND CODES)\n",
    "for i in country_map.keys():\n",
    "    rawdf=pd.DataFrame(getPandaFrameForCountry(i))\n",
    "    print(rawdf.head(1))"
   ]
  },
  {
   "cell_type": "code",
   "execution_count": 5,
   "metadata": {},
   "outputs": [
    {
     "name": "stderr",
     "output_type": "stream",
     "text": [
      " MainThread -- INFO -- entering updateIncidenceTable for France\n",
      " MainThread -- INFO -- , incidence update skipped for France : no recent data detected \n",
      " MainThread -- INFO -- entering updateIncidenceTable for United Kingdom\n",
      " MainThread -- INFO -- , incidence update skipped for United Kingdom : no recent data detected \n",
      " MainThread -- INFO -- entering updateIncidenceTable for China\n",
      " MainThread -- INFO -- , incidence update skipped for China : no recent data detected \n"
     ]
    },
    {
     "name": "stdout",
     "output_type": "stream",
     "text": [
      "0          0.00\n",
      "1          0.00\n",
      "2          0.20\n",
      "3          0.28\n",
      "4          0.25\n",
      "         ...   \n",
      "358    16882.49\n",
      "359    17361.54\n",
      "360    15654.38\n",
      "361    17829.45\n",
      "362    16046.50\n",
      "Name: Confirmed_eMMincidence, Length: 363, dtype: float64\n"
     ]
    }
   ],
   "source": [
    "countrylist = ['France','United Kingdom','China']\n",
    "seriesdict = {}\n",
    "for elem in countrylist : \n",
    "    updateIncidenceTable(elem)\n",
    "    seriesdict[elem] = loadCSVData(elem,'Inc')['Confirmed_eMMincidence']\n",
    "    \n",
    "print(seriesdict['France'])"
   ]
  },
  {
   "cell_type": "code",
   "execution_count": null,
   "metadata": {},
   "outputs": [],
   "source": []
  }
 ],
 "metadata": {
  "kernelspec": {
   "display_name": "Python 3",
   "language": "python",
   "name": "python3"
  },
  "language_info": {
   "codemirror_mode": {
    "name": "ipython",
    "version": 3
   },
   "file_extension": ".py",
   "mimetype": "text/x-python",
   "name": "python",
   "nbconvert_exporter": "python",
   "pygments_lexer": "ipython3",
   "version": "3.8.5"
  }
 },
 "nbformat": 4,
 "nbformat_minor": 4
}
