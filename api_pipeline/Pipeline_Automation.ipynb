{
 "cells": [
  {
   "cell_type": "code",
   "execution_count": 8,
   "metadata": {},
   "outputs": [],
   "source": [
    "import pandas as pd\n",
    "from api_utils import loadCSVData,updateIncidenceTable\n",
    "from api_utils import getRawDataToCSV\n",
    "from api_utils import buildbrutIncidence,incidenceMovingAverage,incidenceExpMovingAverage\n",
    "pd.options.mode.chained_assignment = None"
   ]
  },
  {
   "cell_type": "code",
   "execution_count": 9,
   "metadata": {},
   "outputs": [],
   "source": [
    "paysname = 'France'\n",
    "getRawDataToCSV(paysname)"
   ]
  },
  {
   "cell_type": "code",
   "execution_count": 10,
   "metadata": {},
   "outputs": [
    {
     "name": "stdout",
     "output_type": "stream",
     "text": [
      "no recent data detected for France, incidence update cancelled\n"
     ]
    },
    {
     "data": {
      "text/plain": [
       "False"
      ]
     },
     "execution_count": 10,
     "metadata": {},
     "output_type": "execute_result"
    }
   ],
   "source": [
    "updateIncidenceTable(paysname)"
   ]
  },
  {
   "cell_type": "code",
   "execution_count": 42,
   "metadata": {},
   "outputs": [
    {
     "name": "stdout",
     "output_type": "stream",
     "text": [
      "no recent data detected for France, incidence update cancelled\n",
      "no recent data detected for United Kingdom, incidence update cancelled\n",
      "ERROR : file not found workdata/raw_China_ALLTable.csv\n",
      "ERROR : file not found workdata/incidence_China_Table.csv\n",
      "new data detected : 363 more lines\n"
     ]
    }
   ],
   "source": [
    "countrylist = ['France','United Kingdom','China']\n",
    "seriesdict = {}\n",
    "for elem in countrylist : \n",
    "    updateIncidenceTable(elem)\n",
    "    seriesdict[elem] = loadCSVData(elem,'Inc')['Confirmed_eMMincidence']"
   ]
  },
  {
   "cell_type": "code",
   "execution_count": 43,
   "metadata": {},
   "outputs": [
    {
     "name": "stdout",
     "output_type": "stream",
     "text": [
      "0          0.00\n",
      "1          0.00\n",
      "2          0.20\n",
      "3          0.28\n",
      "4          0.25\n",
      "         ...   \n",
      "358    16882.49\n",
      "359    17361.54\n",
      "360    15654.38\n",
      "361    17829.45\n",
      "362    16046.50\n",
      "Name: Confirmed_eMMincidence, Length: 363, dtype: float64\n"
     ]
    }
   ],
   "source": [
    "print(seriesdict['France'])"
   ]
  },
  {
   "cell_type": "code",
   "execution_count": 44,
   "metadata": {},
   "outputs": [
    {
     "data": {
      "text/html": [
       "<div>\n",
       "<style scoped>\n",
       "    .dataframe tbody tr th:only-of-type {\n",
       "        vertical-align: middle;\n",
       "    }\n",
       "\n",
       "    .dataframe tbody tr th {\n",
       "        vertical-align: top;\n",
       "    }\n",
       "\n",
       "    .dataframe thead th {\n",
       "        text-align: right;\n",
       "    }\n",
       "</style>\n",
       "<table border=\"1\" class=\"dataframe\">\n",
       "  <thead>\n",
       "    <tr style=\"text-align: right;\">\n",
       "      <th></th>\n",
       "      <th>population</th>\n",
       "    </tr>\n",
       "    <tr>\n",
       "      <th>country</th>\n",
       "      <th></th>\n",
       "    </tr>\n",
       "  </thead>\n",
       "  <tbody>\n",
       "    <tr>\n",
       "      <th>Afghanistan</th>\n",
       "      <td>38</td>\n",
       "    </tr>\n",
       "    <tr>\n",
       "      <th>Albania</th>\n",
       "      <td>2.9</td>\n",
       "    </tr>\n",
       "    <tr>\n",
       "      <th>Algeria</th>\n",
       "      <td>43.1</td>\n",
       "    </tr>\n",
       "    <tr>\n",
       "      <th>American Samoa</th>\n",
       "      <td>0.1</td>\n",
       "    </tr>\n",
       "    <tr>\n",
       "      <th>Andorra</th>\n",
       "      <td>0.1</td>\n",
       "    </tr>\n",
       "  </tbody>\n",
       "</table>\n",
       "</div>"
      ],
      "text/plain": [
       "               population\n",
       "country                  \n",
       "Afghanistan            38\n",
       "Albania               2.9\n",
       "Algeria              43.1\n",
       "American Samoa        0.1\n",
       "Andorra               0.1"
      ]
     },
     "execution_count": 44,
     "metadata": {},
     "output_type": "execute_result"
    }
   ],
   "source": [
    "dfpop = pd.read_csv(\"workdata/population_2019.csv\",index_col=0)\n",
    "dfpop.head()"
   ]
  },
  {
   "cell_type": "code",
   "execution_count": 45,
   "metadata": {},
   "outputs": [
    {
     "data": {
      "text/html": [
       "<div>\n",
       "<style scoped>\n",
       "    .dataframe tbody tr th:only-of-type {\n",
       "        vertical-align: middle;\n",
       "    }\n",
       "\n",
       "    .dataframe tbody tr th {\n",
       "        vertical-align: top;\n",
       "    }\n",
       "\n",
       "    .dataframe thead th {\n",
       "        text-align: right;\n",
       "    }\n",
       "</style>\n",
       "<table border=\"1\" class=\"dataframe\">\n",
       "  <thead>\n",
       "    <tr style=\"text-align: right;\">\n",
       "      <th></th>\n",
       "      <th>France</th>\n",
       "      <th>United Kingdom</th>\n",
       "      <th>China</th>\n",
       "    </tr>\n",
       "  </thead>\n",
       "  <tbody>\n",
       "    <tr>\n",
       "      <th>0</th>\n",
       "      <td>11.184501</td>\n",
       "      <td>10.117665</td>\n",
       "      <td>NaN</td>\n",
       "    </tr>\n",
       "    <tr>\n",
       "      <th>1</th>\n",
       "      <td>12.730700</td>\n",
       "      <td>12.622305</td>\n",
       "      <td>NaN</td>\n",
       "    </tr>\n",
       "    <tr>\n",
       "      <th>2</th>\n",
       "      <td>13.998659</td>\n",
       "      <td>14.926048</td>\n",
       "      <td>NaN</td>\n",
       "    </tr>\n",
       "    <tr>\n",
       "      <th>3</th>\n",
       "      <td>15.251565</td>\n",
       "      <td>17.500749</td>\n",
       "      <td>NaN</td>\n",
       "    </tr>\n",
       "    <tr>\n",
       "      <th>4</th>\n",
       "      <td>19.508793</td>\n",
       "      <td>20.431886</td>\n",
       "      <td>NaN</td>\n",
       "    </tr>\n",
       "  </tbody>\n",
       "</table>\n",
       "</div>"
      ],
      "text/plain": [
       "      France  United Kingdom China\n",
       "0  11.184501       10.117665   NaN\n",
       "1  12.730700       12.622305   NaN\n",
       "2  13.998659       14.926048   NaN\n",
       "3  15.251565       17.500749   NaN\n",
       "4  19.508793       20.431886   NaN"
      ]
     },
     "execution_count": 45,
     "metadata": {},
     "output_type": "execute_result"
    }
   ],
   "source": [
    "listoflist = []\n",
    "for name in countrylist :  \n",
    "        # starting with inc per million > 10\n",
    "        testserie = seriesdict[name]/(float(dfpop['population'][name]))\n",
    "        testserie = testserie.loc[(testserie>10)].reset_index(drop=True)\n",
    "        #testserie = testserie    \n",
    "\n",
    "\n",
    "        testdf = pd.DataFrame(testserie.tolist(),columns=[name])\n",
    "        listoflist.append(testdf)\n",
    "    \n",
    "comparativeinc= pd.concat(listoflist, axis=1)\n",
    "#comparativeinc = pd.DataFrame(listoflist,columns=countrylist)\n",
    "comparativeinc.head()"
   ]
  },
  {
   "cell_type": "code",
   "execution_count": 32,
   "metadata": {},
   "outputs": [
    {
     "name": "stdout",
     "output_type": "stream",
     "text": [
      "0        100.09\n",
      "1        138.98\n",
      "2        173.08\n",
      "3        192.17\n",
      "4        217.25\n",
      "         ...   \n",
      "309    49820.98\n",
      "310    50427.38\n",
      "311    49527.44\n",
      "312    48441.70\n",
      "313    47358.53\n",
      "Name: Confirmed_eMMincidence, Length: 314, dtype: float64\n",
      "0        1.498353\n",
      "1        2.080539\n",
      "2        2.591018\n",
      "3        2.876796\n",
      "4        3.252246\n",
      "          ...    \n",
      "309    745.823054\n",
      "310    754.900898\n",
      "311    741.428743\n",
      "312    725.175150\n",
      "313    708.960030\n",
      "Name: Confirmed_eMMincidence, Length: 314, dtype: float64\n"
     ]
    }
   ],
   "source": [
    "testserie = seriesdict['United Kingdom'].loc[(seriesdict['United Kingdom']>100)].reset_index(drop=True)\n",
    "print(testserie)\n",
    "#testserie = testserie.apply(lambda x : (float(dfpop['population']['France'])*1000000)/x)\n",
    "testserie = testserie/(float(dfpop['population']['United Kingdom']))\n",
    "print(testserie)"
   ]
  },
  {
   "cell_type": "code",
   "execution_count": null,
   "metadata": {},
   "outputs": [],
   "source": [
    "# construct table per month for currentyear\n",
    "listoflist = []\n",
    "for month in moisdict.values():\n",
    "    seriemonth = maDataFrame['totalnof'].loc[(maDataFrame['mois']==month)].tolist()\n",
    "    monthframe = pd.DataFrame(seriemonth,columns=[month])\n",
    "    listoflist.append(monthframe)\n",
    "monthframe= pd.concat(listoflist, axis=1)\n",
    "monthframe.to_csv('publidash/dfSB_distri_camois.csv',index=False) "
   ]
  }
 ],
 "metadata": {
  "kernelspec": {
   "display_name": "Python 3",
   "language": "python",
   "name": "python3"
  },
  "language_info": {
   "codemirror_mode": {
    "name": "ipython",
    "version": 3
   },
   "file_extension": ".py",
   "mimetype": "text/x-python",
   "name": "python",
   "nbconvert_exporter": "python",
   "pygments_lexer": "ipython3",
   "version": "3.8.5"
  }
 },
 "nbformat": 4,
 "nbformat_minor": 4
}
